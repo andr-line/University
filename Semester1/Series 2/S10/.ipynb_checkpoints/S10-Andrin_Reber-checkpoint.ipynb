{
 "cells": [
  {
   "cell_type": "markdown",
   "metadata": {
    "pycharm": {
     "name": "#%% md\n"
    }
   },
   "source": [
    "# Informatique scientifique série 10 - Andrin Reber"
   ]
  },
  {
   "cell_type": "markdown",
   "metadata": {
    "pycharm": {
     "name": "#%% md\n"
    }
   },
   "source": [
    "## Exercise 1"
   ]
  },
  {
   "cell_type": "markdown",
   "metadata": {},
   "source": [
    "| Binary           | Decimal | Hexadecimal |\n",
    "|------------------|---------|-------------|\n",
    "| 10'1010          | 42      | 2A          |\n",
    "| 100'0101         | 69      | 45          |\n",
    "| 1'1001'0000      | 400     | 190         |\n",
    "| 1'101'1110       | 222     | DE          |\n",
    "| 110'0100         | 100     | 64          |\n",
    "| 1100'0100        | 196     | C4          |\n",
    "| 10'0000'1001.001 | 521.125 | 209.4       |"
   ]
  },
  {
   "cell_type": "markdown",
   "metadata": {
    "pycharm": {
     "name": "#%% md\n"
    }
   },
   "source": [
    "## Exercise 2. a"
   ]
  },
  {
   "cell_type": "markdown",
   "metadata": {},
   "source": [
    "Let's simplify: 1 year = 365 day, 1 day = 24 hours, 1 hour = 60 minutes et 1 minute = 60 seconds. Therefore, one year contains 365 * 24 * 60 * 60 = 31'536'000 seconds.\n",
    "The biggest number that can be represented as signed integer 32 is 111'1111'1111'1111'1111'1111'1111'1111 in binary, 7FFF'FFFF in hexadecimal or 2'147'483'647 in decimal. (2'147'483'647 seconds) / (31'536'000 seconds/year) = 68.1 years. So after 68 years, in the year 2038, there would be a problem (an overflow)."
   ]
  },
  {
   "cell_type": "markdown",
   "metadata": {
    "pycharm": {
     "name": "#%% md\n"
    }
   },
   "source": [
    "## Exercise 2. b"
   ]
  },
  {
   "cell_type": "markdown",
   "metadata": {
    "pycharm": {
     "name": "#%% md\n"
    }
   },
   "source": [
    "The simplest solution is to use a bigger number to represent time. Since storage space is no longer a concern today, for example a integer 64 would last about 21 times the age of the universe. This approach is also practical because today's computers run mostly on 64-bit processors, so operations on dates would still be approximately equally efficient.\n",
    "If a solution that can represent infinite time is needed, then it would be possible to create a number that is dynamically extendable, but the 64bit solution is weigh simpler."
   ]
  },
  {
   "cell_type": "markdown",
   "metadata": {
    "pycharm": {
     "name": "#%% md\n"
    }
   },
   "source": [
    "## Exercise 2. c"
   ]
  },
  {
   "cell_type": "markdown",
   "metadata": {
    "pycharm": {
     "name": "#%% md\n"
    }
   },
   "source": [
    "Yes, I would not worry about taking a plane since for one, these bugs have mostly been patched, and secondly, because even if there's an overflow, the chance that this will cause a fatal error is very slim (since often important software has error protection built in, and even if not, restarting the system would very likely resolve all errors caused by the overflow). In other words, I'm not scared of dying. (:"
   ]
  },
  {
   "cell_type": "markdown",
   "metadata": {},
   "source": [
    "## Exercise 3. a"
   ]
  },
  {
   "cell_type": "markdown",
   "metadata": {},
   "source": [
    "|     |     |     |     |     |\n",
    "|-----|-----|-----|-----|-----|\n",
    "| 1   | 0   | 1   | 0   | ?   |\n",
    "| 1   | ?   | ?   | 1   | 1   |\n",
    "| 1   | 0   | ?   | 1   | 1   |\n",
    "| 1   | 0   | 1   | 0   | 0   |\n",
    "| 0   | ?   | 0   | 0   |     |\n",
    "\n",
    "can be completed:\n",
    "\n",
    "|     |     |     |     |     |\n",
    "|-----|-----|-----|-----|-----|\n",
    "| 1   | 0   | 1   | 0   | 0   |\n",
    "| 1   | 0   | 1   | 1   | 1   |\n",
    "| 1   | 0   | 1   | 1   | 1   |\n",
    "| 1   | 0   | 1   | 0   | 0   |\n",
    "| 0   | 0   | 0   | 0   |     |\n",
    "\n",
    "Original data: 1010 1011 1011 1010\n",
    "Checksum data: 0110 0000\n",
    "Checksum hexa: 50"
   ]
  },
  {
   "cell_type": "markdown",
   "metadata": {
    "pycharm": {
     "name": "#%% md\n"
    }
   },
   "source": [
    "## Exercise 3. b"
   ]
  },
  {
   "cell_type": "markdown",
   "metadata": {},
   "source": [
    "|     |     |     |     |     |\n",
    "|-----|-----|-----|-----|-----|\n",
    "| 1   | ?   | ?   | ?   | 0   |\n",
    "| ?   | 0   | 0   | 0   | 0   |\n",
    "| 1   | 1   | 0   | 1   | ?   |\n",
    "| 1   | 1   | 1   | ?   | 1   |\n",
    "| ?   | ?   | 1   | 1   |     |\n",
    "\n",
    "can be completed:\n",
    "\n",
    "|     |     |     |     |     |\n",
    "|-----|-----|-----|-----|-----|\n",
    "| 1   | 1   | 0   | 0   | 0   |\n",
    "| 0   | 0   | 0   | 0   | 0   |\n",
    "| 1   | 1   | 0   | 1   | 1   |\n",
    "| 1   | 1   | 1   | 0   | 1   |\n",
    "| 1   | 1   | 1   | 1   |     |\n",
    "\n",
    "Original data: 1100 0000 1101 1110\n",
    "Checksum data: 0011 1111\n",
    "Checksum hexa: 3F"
   ]
  },
  {
   "cell_type": "markdown",
   "metadata": {
    "pycharm": {
     "name": "#%% md\n"
    }
   },
   "source": [
    "## Exercise 3. c"
   ]
  },
  {
   "cell_type": "markdown",
   "metadata": {},
   "source": [
    "|     |     |     |     |                                    |\n",
    "|-----|-----|-----|-----|------------------------------------|\n",
    "| 1   | 0   | 0   | 1   | 0                                  |\n",
    "| 0   | 1   | 0   | 1   | 0                                  |\n",
    "| 1   | 0   | 0   | 1   | <span style=\"color:red\">*1*</span> |\n",
    "| 1   | 0   | 1   | 0   | 0                                  |\n",
    "| 1   | 0   | 1   | 1   |                                    |\n",
    "\n",
    "If for example a bitflip occurs randomly (e.g. cosmic rays), or a faulty transmission occurs, the data can be changed in storage (the red one in the example above). Since in general errors in the data aren't very likely, we can assume that in a given amount of data, the correction with the minimum number of changes is the correct one, in this case changing the red one to a zero:\n",
    "\n",
    "|     |     |     |     |                                      |\n",
    "|-----|-----|-----|-----|--------------------------------------|\n",
    "| 1   | 0   | 0   | 1   | 0                                    |\n",
    "| 0   | 1   | 0   | 1   | 0                                    |\n",
    "| 1   | 0   | 0   | 1   | <span style=\"color:green\">*0*</span> |\n",
    "| 1   | 0   | 1   | 0   | 0                                    |\n",
    "| 1   | 0   | 1   | 1   |                                      |\n",
    "\n",
    "Original data: 1001 0101 1001 1010\n",
    "Checksum data: 00000 1011\n",
    "Checksum hexa: 0B"
   ]
  },
  {
   "cell_type": "markdown",
   "metadata": {},
   "source": [
    "## Exercise 4"
   ]
  },
  {
   "cell_type": "code",
   "execution_count": 1,
   "metadata": {
    "pycharm": {
     "name": "#%%\n"
    },
    "scrolled": true
   },
   "outputs": [
    {
     "name": "stdout",
     "output_type": "stream",
     "text": [
      "1110\n"
     ]
    }
   ],
   "source": [
    "def decToBin(v):\n",
    "    w = 0\n",
    "    i = -1\n",
    "    while v>0:\n",
    "        if v%2==0:\n",
    "            w = w/10\n",
    "            v = v/2\n",
    "        else:\n",
    "            w = w/10 + 1\n",
    "            v=(v-1)/2\n",
    "        i += 1\n",
    "    return int(w* 10**i)\n",
    "\n",
    "print(decToBin(14))"
   ]
  },
  {
   "cell_type": "code",
   "execution_count": 2,
   "metadata": {
    "pycharm": {
     "name": "#%%\n"
    }
   },
   "outputs": [
    {
     "name": "stdout",
     "output_type": "stream",
     "text": [
      "69\n"
     ]
    }
   ],
   "source": [
    "def binToDec(v):\n",
    "    w=0\n",
    "    i=0\n",
    "    while v>0:\n",
    "        v = v/10\n",
    "        if v%1!=0:\n",
    "            w += 2**i\n",
    "            v = v-0.1\n",
    "        i += 1\n",
    "    return w\n",
    "\n",
    "print(binToDec(1000101))"
   ]
  },
  {
   "cell_type": "markdown",
   "metadata": {
    "pycharm": {
     "name": "#%% md\n"
    }
   },
   "source": [
    "## Exercise 5"
   ]
  },
  {
   "cell_type": "code",
   "execution_count": 3,
   "metadata": {},
   "outputs": [],
   "source": [
    "def mysterious(v,i):\n",
    "    mask = 1 << i\n",
    "    v = v + (~v & ~mask)\n",
    "    return v\n",
    "\n",
    "# The function creates the mask = a one with i zeros (in binary). Then it performs a bitwise and of the negation of the mask and the negation of v, thereby setting every bit of v that was 0 to one and the others to 0 (except the 2**i th one because of the mask being 0 at that position). This gives the negation of v with the ith bit always being zero. By adding the result to the original v, we get aa binary number that is 1 everywhere except for the ith position, which is only 1 if the ith position of v was 1. Since the first bit is 1, this is a negative number. By subtracting 1 and negating every bit, we get just the ith bit of v plus 1, and negative.\n",
    "# In other words, the function gives us -2**i-1 if the ith bit of v is one, and -1 if its zero."
   ]
  },
  {
   "cell_type": "markdown",
   "metadata": {},
   "source": [
    "## Exercise 6"
   ]
  },
  {
   "cell_type": "markdown",
   "metadata": {},
   "source": [
    "a) No. In theory (aka. the science part of computer _science_) every rational number can be represented. In the real world however, the required space to store a number increases with its size (number of digits). Therefore, since infinite storage does not exist, not every rational number is representable.\n",
    "\n",
    "b) Yes. Adding any positive number FFFFFFFFFFFFFFFF (1111 1111 1111 1111 1111 1111 1111 1111 1111 1111 1111 1111 1111 1111 1111 1111) leads to an overflow error. Additionally, dividing the number 0000000000000001 by any number greater than zero will lead to an underflow error. Although, since the result would not be another natural number, arguably the resulting 0 could be considered the correct answer (if division is defined as only the natural part of the result).\n",
    "\n",
    "c) No. Since python is a coded language, it doesn't store numbers as conventional ints or floats, but rather as a file structure, in which the actual float or int value is included."
   ]
  },
  {
   "cell_type": "markdown",
   "metadata": {
    "pycharm": {
     "name": "#%% md\n"
    }
   },
   "source": [
    "## Exercise 7"
   ]
  },
  {
   "cell_type": "markdown",
   "metadata": {},
   "source": [
    "a) Every number between -15 and 15 (including those two) can be represented, -15 being 1000 0000 0000 0000 and 15 being 1111 1111 1111 1111.\n",
    "\n",
    "b) There are two representations for the number zero, namely 0000 0000 0000 0000 and 1000 0000 0000 0000. (0 and -0). To solve this problem, we could define the value of the number as all the bits instead of just the bits 0 to 15. As a bonus we could represent one more number: -16.\n",
    "\n",
    "c) A similar approach is used. When multiplying a number with -1, it is inverted bit by bit, and then 1 is added. The 1 is added to the number so there are never two representations for the same number. The negation is done so the normal binary addition still works with negative numbers."
   ]
  },
  {
   "cell_type": "markdown",
   "metadata": {
    "pycharm": {
     "name": "#%% md\n"
    }
   },
   "source": [
    "## Exercise 8"
   ]
  },
  {
   "cell_type": "markdown",
   "metadata": {},
   "source": [
    "- a) 128+128 -> Overflow because FF+FF = 100 (hex).\n",
    "- b) 1 / 10^308^ -> Overflow because 10^308^ is too big for float 32\n",
    "- c) 4^38^ -> Not all digits can be stored in double -> Truncation\n",
    "- d) 10^100^ + 10^-100^ -> Truncation because 10^-100^ is too small compared to 10^100^ to be represented in the same number."
   ]
  },
  {
   "cell_type": "code",
   "execution_count": null,
   "metadata": {},
   "outputs": [],
   "source": []
  }
 ],
 "metadata": {
  "kernelspec": {
   "display_name": "Python 3 (ipykernel)",
   "language": "python",
   "name": "python3"
  },
  "language_info": {
   "codemirror_mode": {
    "name": "ipython",
    "version": 3
   },
   "file_extension": ".py",
   "mimetype": "text/x-python",
   "name": "python",
   "nbconvert_exporter": "python",
   "pygments_lexer": "ipython3",
   "version": "3.10.8"
  }
 },
 "nbformat": 4,
 "nbformat_minor": 1
}
