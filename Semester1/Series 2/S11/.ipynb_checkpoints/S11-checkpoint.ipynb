{
 "cells": [
  {
   "cell_type": "markdown",
   "metadata": {},
   "source": [
    "# Informatique scientifique série 11 - listes avancées, importation des données - Andrin Reber"
   ]
  },
  {
   "cell_type": "code",
   "execution_count": 1,
   "metadata": {},
   "outputs": [],
   "source": [
    "import random\n",
    "from IPython.display import clear_output # to clear 'console'\n",
    "import time # to wait for print output\n",
    "import csv\n",
    "import numpy as np\n",
    "import matplotlib.pyplot as plt\n",
    "import matplotlib.patches as mpatches # for custom legend items"
   ]
  },
  {
   "cell_type": "markdown",
   "metadata": {},
   "source": [
    "## Exercise 1 a)"
   ]
  },
  {
   "cell_type": "code",
   "execution_count": 2,
   "metadata": {},
   "outputs": [
    {
     "name": "stdout",
     "output_type": "stream",
     "text": [
      "bOnjOUr\n"
     ]
    }
   ],
   "source": [
    "#a\n",
    "def transform(s):\n",
    "    return ''.join([chr(ord(char)-32) if char in 'aeiou' else char for char in s])\n",
    "\n",
    "print(transform('bonjour'))"
   ]
  },
  {
   "cell_type": "code",
   "execution_count": 3,
   "metadata": {},
   "outputs": [
    {
     "name": "stdout",
     "output_type": "stream",
     "text": [
      "Enter a string: Hail the queen\n",
      "HAIl thE qUEEn\n",
      "Enter a string: Hail in on the queen\n",
      "HAIl In On thE qUEEn\n",
      "Enter a string: Oh no the queen is dead ):\n",
      "Oh nO thE qUEEn Is dEAd ):\n",
      "Enter a string: End\n",
      "End\n",
      "Enter a string: end\n"
     ]
    }
   ],
   "source": [
    "#b\n",
    "user_input = input('Enter a string: ')\n",
    "while user_input != 'end':\n",
    "    print(transform(user_input))\n",
    "    time.sleep(0.3)\n",
    "    user_input = input('Enter a string: ')\n",
    "\n",
    "# time.sleep allows the print to appear before the next input."
   ]
  },
  {
   "cell_type": "markdown",
   "metadata": {},
   "source": [
    "## Exercise 2"
   ]
  },
  {
   "cell_type": "code",
   "execution_count": 4,
   "metadata": {},
   "outputs": [
    {
     "name": "stdout",
     "output_type": "stream",
     "text": [
      "O_a___\n",
      "      \n",
      "      \n",
      "      \n",
      "      \n",
      "      \n",
      "      \n",
      "       \n",
      "You won, the word was Orange and you guessed it with 0 errors.\n"
     ]
    }
   ],
   "source": [
    "list_of_words = ['Banana', 'Orange', 'Brazil', 'Hexafluorisopropanol', 'Bonjour', 'Exact', 'bouteille', 'spaghetti']\n",
    "\n",
    "# list_of_words = list_of_words + ['hang', 'course', 'day', 'warm', 'passion', 'mastermind', 'funny', 'jest', 'late', 'tell', 'offense', 'wilderness', 'reputation', 'proposal', 'progressive', 'bowel', 'term', 'duke', 'define', 'minister']\n",
    "\n",
    "def pick_word(words):\n",
    "    return random.sample(words, 1)[0]\n",
    "\n",
    "def censor_word(word, guessed_letters):\n",
    "    return ''.join([char if char in guessed_letters else '_' for char in word])\n",
    "\n",
    "def print_graphic(n):\n",
    "    mask = [0,3,3,3,3,3,0,\n",
    "            0,4,0,0,0,2,0,\n",
    "            0,4,0,0,0,2,0,\n",
    "            7,5,7,0,0,2,0,\n",
    "            6,0,6,0,0,2,0,\n",
    "            0,0,0,0,0,2,0,\n",
    "            1,1,1,1,1,1,1]\n",
    "    graphic = [' ','+','-','-','-','+','\\n',\n",
    "               ' ','|',' ',' ',' ','|','\\n',\n",
    "               ' ','O',' ',' ',' ','|','\\n',\n",
    "               '/','|','\\\\',' ',' ','|','\\n',\n",
    "               '/',' ','\\\\',' ',' ','|','\\n',\n",
    "               ' ',' ',' ',' ',' ','|','\\n',\n",
    "               '=','=','=','=','=','=','=',]\n",
    "    print(''.join([graphic[i] if mask[i]<=n else ' ' for i in range(len(mask))]))\n",
    "\n",
    "total_guesses = 7\n",
    "number_of_guesses = 0\n",
    "guessed_letters = ''\n",
    "win = False\n",
    "current_word = pick_word(list_of_words)\n",
    "current_guess = ''\n",
    "while number_of_guesses < total_guesses and not win and current_guess != 'end':\n",
    "    current_guess = input('What letter will you guess?')\n",
    "    while current_guess in guessed_letters:\n",
    "        current_guess = input('You already guessed that letter. What other letter will you guess?')\n",
    "    if current_guess.lower() not in current_word.lower():\n",
    "        number_of_guesses += 1\n",
    "    if len(current_guess) == 1:\n",
    "        guessed_letters += current_guess.lower() + current_guess.upper()\n",
    "    clear_output(wait=True)\n",
    "    print(censor_word(current_word, guessed_letters))\n",
    "    print_graphic(number_of_guesses)\n",
    "    time.sleep(0.3)\n",
    "    if censor_word(current_word, guessed_letters).lower() == current_word.lower() or current_guess.lower() == current_word.lower():\n",
    "        win = True\n",
    "        print('You won, the word was', current_word, 'and you guessed it with', number_of_guesses, 'errors.')\n",
    "\n",
    "if not win:\n",
    "    print('You lost, the word was', current_word, 'and you weren\\'t able to guess it.')"
   ]
  },
  {
   "cell_type": "markdown",
   "metadata": {},
   "source": [
    "## Exercise 3"
   ]
  },
  {
   "cell_type": "code",
   "execution_count": 5,
   "metadata": {},
   "outputs": [
    {
     "name": "stdout",
     "output_type": "stream",
     "text": [
      "[0, 9, 36, 81, 144, 225, 324, 441, 576, 729, 900, 1089, 1296, 1521, 1764, 2025, 2304, 2601, 2916, 3249, 3600, 3969, 4356, 4761]\n"
     ]
    }
   ],
   "source": [
    "S = [x**2 for x in range(0,70) if x%3==0]\n",
    "print(S)"
   ]
  },
  {
   "cell_type": "code",
   "execution_count": 6,
   "metadata": {},
   "outputs": [
    {
     "name": "stdout",
     "output_type": "stream",
     "text": [
      "[65536, 32768, 16384, 8192, 4096, 2048, 1024, 512, 256, 128, 64, 32, 16, 8, 4, 2, 1]\n"
     ]
    }
   ],
   "source": [
    "V = [2**(16-x) for x in range(0,17)]\n",
    "print(V)"
   ]
  },
  {
   "cell_type": "code",
   "execution_count": 7,
   "metadata": {},
   "outputs": [
    {
     "name": "stdout",
     "output_type": "stream",
     "text": [
      "[0, 36, 144, 324, 576, 900, 1296, 1764, 2304, 2916, 3600, 4356]\n"
     ]
    }
   ],
   "source": [
    "M = [x for x in S if x%2==0]\n",
    "print(M)"
   ]
  },
  {
   "cell_type": "code",
   "execution_count": 8,
   "metadata": {},
   "outputs": [
    {
     "name": "stdout",
     "output_type": "stream",
     "text": [
      "[4, -4, -2, 7, 10, 1, 4, 3, 7, -4, -4, -3, -1, 6, 2, 7, -5, 1, 5, 8, 1, 3, -3, 1, -5, -1, 9, 8, 5, 5]\n"
     ]
    }
   ],
   "source": [
    "R1 = [random.randint(-5,10) for i in range(30)]\n",
    "print(R1)"
   ]
  },
  {
   "cell_type": "code",
   "execution_count": 9,
   "metadata": {},
   "outputs": [
    {
     "name": "stdout",
     "output_type": "stream",
     "text": [
      "[0, -2, -7, -4, 0, 0, -2, -5, -2, 5, 5, -1, -3, -8, -10, 3, -3, 5, 5, -8, -7, -7, -5, 5, 4, 2, 4, -6, 4, -3]\n"
     ]
    }
   ],
   "source": [
    "R2 = [random.randint(-10,5) for i in range(30)]\n",
    "print(R2)"
   ]
  },
  {
   "cell_type": "code",
   "execution_count": 10,
   "metadata": {},
   "outputs": [
    {
     "name": "stdout",
     "output_type": "stream",
     "text": [
      "[5]\n"
     ]
    }
   ],
   "source": [
    "R3 = [x for i, x in enumerate(R1) if x==R2[i]]\n",
    "print(R3)"
   ]
  },
  {
   "cell_type": "code",
   "execution_count": 11,
   "metadata": {},
   "outputs": [
    {
     "name": "stdout",
     "output_type": "stream",
     "text": [
      "['R', 'E', 'T', 'N', 'S']\n"
     ]
    }
   ],
   "source": [
    "words = ['alligator', 'aléatoire', 'croissant', 'Joe Biden', 'Deez Nuts']\n",
    "W1 = [x[-1].upper() for x in words]\n",
    "print(W1)"
   ]
  },
  {
   "cell_type": "code",
   "execution_count": 12,
   "metadata": {},
   "outputs": [
    {
     "name": "stdout",
     "output_type": "stream",
     "text": [
      "[['a', 'l', 'l', 'i', 'g', 'a', 't', 'o', 'r'], ['a', 'l', 'é', 'a', 't', 'o', 'i', 'r', 'e'], ['c', 'r', 'o', 'i', 's', 's', 'a', 'n', 't'], ['J', 'o', 'e', ' ', 'B', 'i', 'd', 'e', 'n'], ['D', 'e', 'e', 'z', ' ', 'N', 'u', 't', 's']]\n"
     ]
    }
   ],
   "source": [
    "W2 = [[i for i in x] for x in words]\n",
    "print(W2)"
   ]
  },
  {
   "cell_type": "code",
   "execution_count": 13,
   "metadata": {},
   "outputs": [
    {
     "name": "stdout",
     "output_type": "stream",
     "text": [
      "[6, 6, 27, 420.00000000420005]\n"
     ]
    }
   ],
   "source": [
    "L1 = [1, 2, 3, 6.0869565218]\n",
    "L2 = [6, 3, 9, 69]\n",
    "L3 = [L1[i]*L2[i] for i in range(len(L1))]\n",
    "print(L3)"
   ]
  },
  {
   "cell_type": "markdown",
   "metadata": {},
   "source": [
    "## Exercise 4"
   ]
  },
  {
   "cell_type": "code",
   "execution_count": 14,
   "metadata": {},
   "outputs": [
    {
     "ename": "FileNotFoundError",
     "evalue": "[Errno 2] No such file or directory: 'Nationen.csv'",
     "output_type": "error",
     "traceback": [
      "\u001b[0;31m---------------------------------------------------------------------------\u001b[0m",
      "\u001b[0;31mFileNotFoundError\u001b[0m                         Traceback (most recent call last)",
      "Cell \u001b[0;32mIn [14], line 2\u001b[0m\n\u001b[1;32m      1\u001b[0m \u001b[38;5;66;03m#a\u001b[39;00m\n\u001b[0;32m----> 2\u001b[0m file \u001b[38;5;241m=\u001b[39m \u001b[38;5;28;43mopen\u001b[39;49m\u001b[43m(\u001b[49m\u001b[38;5;124;43m'\u001b[39;49m\u001b[38;5;124;43mNationen.csv\u001b[39;49m\u001b[38;5;124;43m'\u001b[39;49m\u001b[43m,\u001b[49m\u001b[43m \u001b[49m\u001b[38;5;124;43m'\u001b[39;49m\u001b[38;5;124;43mr\u001b[39;49m\u001b[38;5;124;43m'\u001b[39;49m\u001b[43m)\u001b[49m\n\u001b[1;32m      3\u001b[0m csvreader \u001b[38;5;241m=\u001b[39m csv\u001b[38;5;241m.\u001b[39mreader(file)\n\u001b[1;32m      4\u001b[0m raw_data \u001b[38;5;241m=\u001b[39m \u001b[38;5;28mlist\u001b[39m(csvreader)\n",
      "\u001b[0;31mFileNotFoundError\u001b[0m: [Errno 2] No such file or directory: 'Nationen.csv'"
     ]
    }
   ],
   "source": [
    "#a\n",
    "file = open('Nationen.csv', 'r')\n",
    "csvreader = csv.reader(file)\n",
    "raw_data = list(csvreader)\n",
    "data = np.array(raw_data[1:])"
   ]
  },
  {
   "cell_type": "code",
   "execution_count": null,
   "metadata": {},
   "outputs": [],
   "source": [
    "#b\n",
    "for index, item in enumerate(data):\n",
    "    print(index, item[0], item[3])"
   ]
  },
  {
   "cell_type": "code",
   "execution_count": null,
   "metadata": {},
   "outputs": [],
   "source": [
    "#c\n",
    "print('Smallest surface area:', data[np.argmin(np.array(data[:,2], dtype=float), axis=0)][0], 'with' , data[np.argmin(np.array(data[:,2], dtype=float), axis=0)][2], 'km^2', '\\nLargest surface area:', data[np.argmax(np.array(data[:,2], dtype=float), axis=0)][0], 'with' , data[np.argmax(np.array(data[:,2], dtype=float), axis=0)][2], 'km^2')"
   ]
  },
  {
   "cell_type": "code",
   "execution_count": null,
   "metadata": {},
   "outputs": [],
   "source": [
    "#d\n",
    "plt.hist(np.array(data[:,3],dtype='float'), bins=60)\n",
    "average = np.average(np.array(data[:,3],dtype='float'))\n",
    "median = np.median(np.array(data[:,3],dtype='float'))\n",
    "plt.axvline(x=average, c='red')\n",
    "plt.axvline(x=median, c='green')\n",
    "plt.xlabel('Population in thousands')\n",
    "plt.ylabel('Number of countries')\n",
    "plt.title('Distribution of population (1988)')\n",
    "\n",
    "green_legend = mpatches.Patch(color='green', label=f'Median: {round(median, 2)}')\n",
    "red_legend = mpatches.Patch(color='red', label=f'Average: {round(average, 2)}')\n",
    "plt.legend(handles=[green_legend, red_legend])\n",
    "plt.show()"
   ]
  },
  {
   "cell_type": "code",
   "execution_count": null,
   "metadata": {},
   "outputs": [],
   "source": [
    "#e\n",
    "population_density = np.array(data[:,3],dtype='float')/np.array(data[:,2],dtype='float')\n",
    "plt.hist(population_density, bins=60)\n",
    "min_index = np.argmin(population_density)\n",
    "max_index = np.argmax(population_density)\n",
    "plt.axvline(x=min, c='red')\n",
    "plt.axvline(x=max, c='green')\n",
    "plt.text(population_density[min_index]+0.5, 60, f'min: {round(population_density[min_index], 6)}\\n{data[min_index, 0]}', c='red')\n",
    "plt.text(population_density[max_index]-1.5, 60, f'max: {round(population_density[max_index], 6)}\\n{data[max_index, 0]}', c='green')\n",
    "plt.xlabel('Population density in thousands per km^2')\n",
    "plt.ylabel('Number of countries')\n",
    "plt.title('Distribution of population density (1988)')\n",
    "plt.show()"
   ]
  },
  {
   "cell_type": "code",
   "execution_count": null,
   "metadata": {},
   "outputs": [],
   "source": [
    "#f\n",
    "plt.hist([[x for i, x in enumerate(population_density) if data[i][1]=='Asien'], [x for i, x in enumerate(population_density) if data[i][1]=='Naher Osten']], 30, histtype='bar', color=['red', 'green'], label=['Asien', 'Naher Osten'])\n",
    "plt.legend()\n",
    "plt.xlabel('Population density in thousands per km^2')\n",
    "plt.ylabel('Number of countries')\n",
    "plt.title('Distribution of population density: Asia vs Near east')\n",
    "plt.show()"
   ]
  },
  {
   "cell_type": "code",
   "execution_count": null,
   "metadata": {},
   "outputs": [],
   "source": [
    "#g\n",
    "export_density = np.array(data[:,5],dtype='float')/np.array(data[:,2],dtype='float')\n",
    "plt.hist([[x for i, x in enumerate(export_density) if data[i][1]=='Europa'], [x for i, x in enumerate(export_density) if data[i][1]=='Afrika']], 30, histtype='bar', color=['red', 'green'], label=['Europa', 'Afrika'])\n",
    "plt.legend()\n",
    "plt.xlabel('Export density in thousands per km^2')\n",
    "plt.ylabel('Number of countries')\n",
    "plt.title('Distribution of export density: Europe vs Africa')\n",
    "plt.show()"
   ]
  },
  {
   "cell_type": "markdown",
   "metadata": {},
   "source": [
    "## Exercise 5"
   ]
  },
  {
   "cell_type": "code",
   "execution_count": null,
   "metadata": {},
   "outputs": [],
   "source": [
    "#a\n",
    "def decode(m, n):\n",
    "    return ''.join([chr((ord(char)-97-n)%26 +97) if 96<ord(char)<123 else char for char in [m[-i].lower() for i in range(1,len(m)+1)]])\n",
    "\n",
    "#b\n",
    "for n in range(26):\n",
    "    print(decode('av rug zbqtavx sb rug qavyo rug rab qrlr anz fv tavx', n))\n",
    "\n",
    "# n=13 >>> king is man eyed one the blind the of kingdom the in\n",
    "\n",
    "#c already done"
   ]
  },
  {
   "cell_type": "markdown",
   "metadata": {},
   "source": [
    "## Exercise 6"
   ]
  },
  {
   "cell_type": "code",
   "execution_count": null,
   "metadata": {},
   "outputs": [],
   "source": [
    "# Using the middle-most element as pivot:\n",
    "# pivot = L[len(L)//2]\n",
    "\n",
    "def quicksort(L):\n",
    "    return ([] if L==[] else quicksort([x for x in L if x < L[len(L)//2]]) + [x for x in L if x == L[len(L)//2]] + quicksort([x for x in L if x > L[len(L)//2]]))\n",
    "\n",
    "print(quicksort([3, 6, 12, 5, 3, 7, 1, 7, 2]))\n",
    "print(quicksort([1, 0, 0, 1, 0, 1, 1, 0, 1, 0, 0, 1]))\n",
    "print(quicksort([1, 5.3, np.pi, 99999, -99999]))"
   ]
  }
 ],
 "metadata": {
  "kernelspec": {
   "display_name": "Python 3 (ipykernel)",
   "language": "python",
   "name": "python3"
  },
  "language_info": {
   "codemirror_mode": {
    "name": "ipython",
    "version": 3
   },
   "file_extension": ".py",
   "mimetype": "text/x-python",
   "name": "python",
   "nbconvert_exporter": "python",
   "pygments_lexer": "ipython3",
   "version": "3.11.0"
  }
 },
 "nbformat": 4,
 "nbformat_minor": 1
}
