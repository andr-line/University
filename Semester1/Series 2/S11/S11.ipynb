{
 "cells": [
  {
   "cell_type": "markdown",
   "metadata": {},
   "source": [
    "# Informatique scientifique série 11 - listes avancées, importation des données - Andrin Reber"
   ]
  },
  {
   "cell_type": "code",
   "execution_count": 1,
   "metadata": {},
   "outputs": [],
   "source": [
    "import random\n",
    "from IPython.display import clear_output # to clear 'console'\n",
    "import time # to wait for print output\n",
    "import csv\n",
    "import numpy as np\n",
    "import matplotlib.pyplot as plt\n",
    "import matplotlib.patches as mpatches # for custom legend items"
   ]
  },
  {
   "cell_type": "markdown",
   "metadata": {},
   "source": [
    "## Exercise 1 a)"
   ]
  },
  {
   "cell_type": "code",
   "execution_count": 2,
   "metadata": {},
   "outputs": [
    {
     "name": "stdout",
     "output_type": "stream",
     "text": [
      "bOnjOUr\n"
     ]
    }
   ],
   "source": [
    "#a\n",
    "def transform(s):\n",
    "    return ''.join([chr(ord(char)-32) if char in 'aeiou' else char for char in s])\n",
    "\n",
    "print(transform('bonjour'))"
   ]
  },
  {
   "cell_type": "code",
   "execution_count": 3,
   "metadata": {},
   "outputs": [
    {
     "name": "stdout",
     "output_type": "stream",
     "text": [
      "Enter a string: all hail king grantelbart\n",
      "All hAIl kIng grAntElbArt\n",
      "Enter a string: end\n"
     ]
    }
   ],
   "source": [
    "#b\n",
    "user_input = input('Enter a string: ')\n",
    "while user_input != 'end':\n",
    "    print(transform(user_input))\n",
    "    time.sleep(0.3)\n",
    "    user_input = input('Enter a string: ')\n",
    "\n",
    "# time.sleep allows the print to appear before the next input."
   ]
  },
  {
   "cell_type": "markdown",
   "metadata": {},
   "source": [
    "## Exercise 2"
   ]
  },
  {
   "cell_type": "code",
   "execution_count": 4,
   "metadata": {},
   "outputs": [
    {
     "name": "stdout",
     "output_type": "stream",
     "text": [
      "_o__e___e\n",
      "      \n",
      "     |\n",
      "     |\n",
      "     |\n",
      "     |\n",
      "     |\n",
      "=======\n",
      "You won, the word was bouteille and you guessed it with 2 errors.\n"
     ]
    }
   ],
   "source": [
    "list_of_words = ['Banana', 'Orange', 'Brazil', 'Hexafluorisopropanol', 'Bonjour', 'Exact', 'bouteille', 'spaghetti']\n",
    "\n",
    "# list_of_words = list_of_words + ['hang', 'course', 'day', 'warm', 'passion', 'mastermind', 'funny', 'jest', 'late', 'tell', 'offense', 'wilderness', 'reputation', 'proposal', 'progressive', 'bowel', 'term', 'duke', 'define', 'minister']\n",
    "\n",
    "def pick_word(words):\n",
    "    return random.sample(words, 1)[0]\n",
    "\n",
    "def censor_word(word, guessed_letters):\n",
    "    return ''.join([char if char in guessed_letters else '_' for char in word])\n",
    "\n",
    "def print_graphic(n):\n",
    "    mask = [0,3,3,3,3,3,0,\n",
    "            0,4,0,0,0,2,0,\n",
    "            0,4,0,0,0,2,0,\n",
    "            7,5,7,0,0,2,0,\n",
    "            6,0,6,0,0,2,0,\n",
    "            0,0,0,0,0,2,0,\n",
    "            1,1,1,1,1,1,1]\n",
    "    graphic = [' ','+','-','-','-','+','\\n',\n",
    "               ' ','|',' ',' ',' ','|','\\n',\n",
    "               ' ','O',' ',' ',' ','|','\\n',\n",
    "               '/','|','\\\\',' ',' ','|','\\n',\n",
    "               '/',' ','\\\\',' ',' ','|','\\n',\n",
    "               ' ',' ',' ',' ',' ','|','\\n',\n",
    "               '=','=','=','=','=','=','=',]\n",
    "    print(''.join([graphic[i] if mask[i]<=n else ' ' for i in range(len(mask))]))\n",
    "\n",
    "total_guesses = 7\n",
    "number_of_guesses = 0\n",
    "guessed_letters = ''\n",
    "win = False\n",
    "current_word = pick_word(list_of_words)\n",
    "current_guess = ''\n",
    "while number_of_guesses < total_guesses and not win and current_guess != 'end':\n",
    "    current_guess = input('What letter will you guess?')\n",
    "    while current_guess in guessed_letters:\n",
    "        current_guess = input('You already guessed that letter. What other letter will you guess?')\n",
    "    if current_guess.lower() not in current_word.lower():\n",
    "        number_of_guesses += 1\n",
    "    if len(current_guess) == 1:\n",
    "        guessed_letters += current_guess.lower() + current_guess.upper()\n",
    "    clear_output(wait=True)\n",
    "    print(censor_word(current_word, guessed_letters))\n",
    "    print_graphic(number_of_guesses)\n",
    "    time.sleep(0.3)\n",
    "    if censor_word(current_word, guessed_letters).lower() == current_word.lower() or current_guess.lower() == current_word.lower():\n",
    "        win = True\n",
    "        print('You won, the word was', current_word, 'and you guessed it with', number_of_guesses, 'errors.')\n",
    "\n",
    "if not win:\n",
    "    print('You lost, the word was', current_word, 'and you weren\\'t able to guess it.')"
   ]
  },
  {
   "cell_type": "markdown",
   "metadata": {},
   "source": [
    "## Exercise 3"
   ]
  },
  {
   "cell_type": "code",
   "execution_count": 5,
   "metadata": {},
   "outputs": [
    {
     "name": "stdout",
     "output_type": "stream",
     "text": [
      "[0, 9, 36, 81, 144, 225, 324, 441, 576, 729, 900, 1089, 1296, 1521, 1764, 2025, 2304, 2601, 2916, 3249, 3600, 3969, 4356, 4761]\n"
     ]
    }
   ],
   "source": [
    "S = [x**2 for x in range(0,70) if x%3==0]\n",
    "print(S)"
   ]
  },
  {
   "cell_type": "code",
   "execution_count": 6,
   "metadata": {},
   "outputs": [
    {
     "name": "stdout",
     "output_type": "stream",
     "text": [
      "[65536, 32768, 16384, 8192, 4096, 2048, 1024, 512, 256, 128, 64, 32, 16, 8, 4, 2, 1]\n"
     ]
    }
   ],
   "source": [
    "V = [2**(16-x) for x in range(0,17)]\n",
    "print(V)"
   ]
  },
  {
   "cell_type": "code",
   "execution_count": 7,
   "metadata": {},
   "outputs": [
    {
     "name": "stdout",
     "output_type": "stream",
     "text": [
      "[0, 36, 144, 324, 576, 900, 1296, 1764, 2304, 2916, 3600, 4356]\n"
     ]
    }
   ],
   "source": [
    "M = [x for x in S if x%2==0]\n",
    "print(M)"
   ]
  },
  {
   "cell_type": "code",
   "execution_count": 8,
   "metadata": {},
   "outputs": [
    {
     "name": "stdout",
     "output_type": "stream",
     "text": [
      "[10, 0, 1, 1, 9, 5, 4, -1, 6, 2, 8, -1, 7, 6, 2, -3, 5, -2, 1, 2, 1, 5, 10, 7, -5, 2, 7, -4, 7, -4]\n"
     ]
    }
   ],
   "source": [
    "R1 = [random.randint(-5,10) for i in range(30)]\n",
    "print(R1)"
   ]
  },
  {
   "cell_type": "code",
   "execution_count": 9,
   "metadata": {},
   "outputs": [
    {
     "name": "stdout",
     "output_type": "stream",
     "text": [
      "[1, -10, -7, -4, -8, -8, 4, -10, -5, -7, 2, -9, -7, 5, 0, -4, 0, 3, 4, 3, -5, -9, -8, -4, -6, -2, -7, -2, -9, -6]\n"
     ]
    }
   ],
   "source": [
    "R2 = [random.randint(-10,5) for i in range(30)]\n",
    "print(R2)"
   ]
  },
  {
   "cell_type": "code",
   "execution_count": 10,
   "metadata": {},
   "outputs": [
    {
     "name": "stdout",
     "output_type": "stream",
     "text": [
      "[4]\n"
     ]
    }
   ],
   "source": [
    "R3 = [x for i, x in enumerate(R1) if x==R2[i]]\n",
    "print(R3)"
   ]
  },
  {
   "cell_type": "code",
   "execution_count": 11,
   "metadata": {},
   "outputs": [
    {
     "name": "stdout",
     "output_type": "stream",
     "text": [
      "['R', 'E', 'T', 'N', 'S']\n"
     ]
    }
   ],
   "source": [
    "words = ['alligator', 'aléatoire', 'croissant', 'Joe Biden', 'Deez Nuts']\n",
    "W1 = [x[-1].upper() for x in words]\n",
    "print(W1)"
   ]
  },
  {
   "cell_type": "code",
   "execution_count": 12,
   "metadata": {},
   "outputs": [
    {
     "name": "stdout",
     "output_type": "stream",
     "text": [
      "[['a', 'l', 'l', 'i', 'g', 'a', 't', 'o', 'r'], ['a', 'l', 'é', 'a', 't', 'o', 'i', 'r', 'e'], ['c', 'r', 'o', 'i', 's', 's', 'a', 'n', 't'], ['J', 'o', 'e', ' ', 'B', 'i', 'd', 'e', 'n'], ['D', 'e', 'e', 'z', ' ', 'N', 'u', 't', 's']]\n"
     ]
    }
   ],
   "source": [
    "W2 = [[i for i in x] for x in words]\n",
    "print(W2)"
   ]
  },
  {
   "cell_type": "code",
   "execution_count": 13,
   "metadata": {},
   "outputs": [
    {
     "name": "stdout",
     "output_type": "stream",
     "text": [
      "[6, 6, 27, 420.00000000420005]\n"
     ]
    }
   ],
   "source": [
    "L1 = [1, 2, 3, 6.0869565218]\n",
    "L2 = [6, 3, 9, 69]\n",
    "L3 = [L1[i]*L2[i] for i in range(len(L1))]\n",
    "print(L3)"
   ]
  },
  {
   "cell_type": "markdown",
   "metadata": {},
   "source": [
    "## Exercise 4"
   ]
  },
  {
   "cell_type": "code",
   "execution_count": 14,
   "metadata": {},
   "outputs": [],
   "source": [
    "#a\n",
    "file = open('Nationen.csv', 'r')\n",
    "csvreader = csv.reader(file)\n",
    "raw_data = list(csvreader)\n",
    "data = np.array(raw_data[1:])"
   ]
  },
  {
   "cell_type": "code",
   "execution_count": 15,
   "metadata": {},
   "outputs": [
    {
     "name": "stdout",
     "output_type": "stream",
     "text": [
      "0 Afghanistan 19082\n",
      "1 Aegypten 52300\n",
      "2 Angola 7474\n",
      "3 Arabische Emiraten 1311\n",
      "4 Argentinien 30500\n",
      "5 Aethiopien 38024\n",
      "6 Australien 15990\n",
      "7 Bahamas 285\n",
      "8 Bahrain 570\n",
      "9 Bangladesh 103575\n"
     ]
    }
   ],
   "source": [
    "#b\n",
    "for index, item in enumerate(data[0:10]):\n",
    "    print(index, item[0], item[3])"
   ]
  },
  {
   "cell_type": "code",
   "execution_count": 16,
   "metadata": {},
   "outputs": [
    {
     "name": "stdout",
     "output_type": "stream",
     "text": [
      "Smallest surface area: Gibraltar with 6 km^2 \n",
      "Largest surface area: USSR with 22402200 km^2\n"
     ]
    }
   ],
   "source": [
    "#c\n",
    "print('Smallest surface area:', data[np.argmin(np.array(data[:,2], dtype=float), axis=0)][0], 'with' , data[np.argmin(np.array(data[:,2], dtype=float), axis=0)][2], 'km^2', '\\nLargest surface area:', data[np.argmax(np.array(data[:,2], dtype=float), axis=0)][0], 'with' , data[np.argmax(np.array(data[:,2], dtype=float), axis=0)][2], 'km^2')"
   ]
  },
  {
   "cell_type": "code",
   "execution_count": 17,
   "metadata": {},
   "outputs": [
    {
     "data": {
      "image/png": "[encoded data removed]",
      "text/plain": [
       "<Figure size 640x480 with 1 Axes>"
      ]
     },
     "metadata": {},
     "output_type": "display_data"
    }
   ],
   "source": [
    "#d\n",
    "plt.hist(np.array(data[:,3],dtype='float'), bins=60)\n",
    "average = np.average(np.array(data[:,3],dtype='float'))\n",
    "median = np.median(np.array(data[:,3],dtype='float'))\n",
    "plt.axvline(x=average, c='red')\n",
    "plt.axvline(x=median, c='green')\n",
    "plt.xlabel('Population in thousands')\n",
    "plt.ylabel('Number of countries')\n",
    "plt.title('Distribution of population (1988)')\n",
    "\n",
    "green_legend = mpatches.Patch(color='green', label=f'Median: {round(median, 2)}')\n",
    "red_legend = mpatches.Patch(color='red', label=f'Average: {round(average, 2)}')\n",
    "plt.legend(handles=[green_legend, red_legend])\n",
    "plt.show()"
   ]
  },
  {
   "cell_type": "code",
   "execution_count": 18,
   "metadata": {},
   "outputs": [
    {
     "ename": "TypeError",
     "evalue": "'>' not supported between instances of 'float' and 'builtin_function_or_method'",
     "output_type": "error",
     "traceback": [
      "\u001B[0;31m---------------------------------------------------------------------------\u001B[0m",
      "\u001B[0;31mTypeError\u001B[0m                                 Traceback (most recent call last)",
      "Cell \u001B[0;32mIn[18], line 6\u001B[0m\n\u001B[1;32m      4\u001B[0m min_index \u001B[38;5;241m=\u001B[39m np\u001B[38;5;241m.\u001B[39margmin(population_density)\n\u001B[1;32m      5\u001B[0m max_index \u001B[38;5;241m=\u001B[39m np\u001B[38;5;241m.\u001B[39margmax(population_density)\n\u001B[0;32m----> 6\u001B[0m \u001B[43mplt\u001B[49m\u001B[38;5;241;43m.\u001B[39;49m\u001B[43maxvline\u001B[49m\u001B[43m(\u001B[49m\u001B[43mx\u001B[49m\u001B[38;5;241;43m=\u001B[39;49m\u001B[38;5;28;43mmin\u001B[39;49m\u001B[43m,\u001B[49m\u001B[43m \u001B[49m\u001B[43mc\u001B[49m\u001B[38;5;241;43m=\u001B[39;49m\u001B[38;5;124;43m'\u001B[39;49m\u001B[38;5;124;43mred\u001B[39;49m\u001B[38;5;124;43m'\u001B[39;49m\u001B[43m)\u001B[49m\n\u001B[1;32m      7\u001B[0m plt\u001B[38;5;241m.\u001B[39maxvline(x\u001B[38;5;241m=\u001B[39m\u001B[38;5;28mmax\u001B[39m, c\u001B[38;5;241m=\u001B[39m\u001B[38;5;124m'\u001B[39m\u001B[38;5;124mgreen\u001B[39m\u001B[38;5;124m'\u001B[39m)\n\u001B[1;32m      8\u001B[0m plt\u001B[38;5;241m.\u001B[39mtext(population_density[min_index]\u001B[38;5;241m+\u001B[39m\u001B[38;5;241m0.5\u001B[39m, \u001B[38;5;241m60\u001B[39m, \u001B[38;5;124mf\u001B[39m\u001B[38;5;124m'\u001B[39m\u001B[38;5;124mmin: \u001B[39m\u001B[38;5;132;01m{\u001B[39;00m\u001B[38;5;28mround\u001B[39m(population_density[min_index],\u001B[38;5;250m \u001B[39m\u001B[38;5;241m6\u001B[39m)\u001B[38;5;132;01m}\u001B[39;00m\u001B[38;5;130;01m\\n\u001B[39;00m\u001B[38;5;132;01m{\u001B[39;00mdata[min_index,\u001B[38;5;250m \u001B[39m\u001B[38;5;241m0\u001B[39m]\u001B[38;5;132;01m}\u001B[39;00m\u001B[38;5;124m'\u001B[39m, c\u001B[38;5;241m=\u001B[39m\u001B[38;5;124m'\u001B[39m\u001B[38;5;124mred\u001B[39m\u001B[38;5;124m'\u001B[39m)\n",
      "File \u001B[0;32m/usr/local/Cellar/jupyterlab/3.4.8/libexec/lib/python3.10/site-packages/matplotlib/pyplot.py:2343\u001B[0m, in \u001B[0;36maxvline\u001B[0;34m(x, ymin, ymax, **kwargs)\u001B[0m\n\u001B[1;32m   2341\u001B[0m \u001B[38;5;129m@_copy_docstring_and_deprecators\u001B[39m(Axes\u001B[38;5;241m.\u001B[39maxvline)\n\u001B[1;32m   2342\u001B[0m \u001B[38;5;28;01mdef\u001B[39;00m \u001B[38;5;21maxvline\u001B[39m(x\u001B[38;5;241m=\u001B[39m\u001B[38;5;241m0\u001B[39m, ymin\u001B[38;5;241m=\u001B[39m\u001B[38;5;241m0\u001B[39m, ymax\u001B[38;5;241m=\u001B[39m\u001B[38;5;241m1\u001B[39m, \u001B[38;5;241m*\u001B[39m\u001B[38;5;241m*\u001B[39mkwargs):\n\u001B[0;32m-> 2343\u001B[0m     \u001B[38;5;28;01mreturn\u001B[39;00m \u001B[43mgca\u001B[49m\u001B[43m(\u001B[49m\u001B[43m)\u001B[49m\u001B[38;5;241;43m.\u001B[39;49m\u001B[43maxvline\u001B[49m\u001B[43m(\u001B[49m\u001B[43mx\u001B[49m\u001B[38;5;241;43m=\u001B[39;49m\u001B[43mx\u001B[49m\u001B[43m,\u001B[49m\u001B[43m \u001B[49m\u001B[43mymin\u001B[49m\u001B[38;5;241;43m=\u001B[39;49m\u001B[43mymin\u001B[49m\u001B[43m,\u001B[49m\u001B[43m \u001B[49m\u001B[43mymax\u001B[49m\u001B[38;5;241;43m=\u001B[39;49m\u001B[43mymax\u001B[49m\u001B[43m,\u001B[49m\u001B[43m \u001B[49m\u001B[38;5;241;43m*\u001B[39;49m\u001B[38;5;241;43m*\u001B[39;49m\u001B[43mkwargs\u001B[49m\u001B[43m)\u001B[49m\n",
      "File \u001B[0;32m/usr/local/Cellar/jupyterlab/3.4.8/libexec/lib/python3.10/site-packages/matplotlib/axes/_axes.py:826\u001B[0m, in \u001B[0;36mAxes.axvline\u001B[0;34m(self, x, ymin, ymax, **kwargs)\u001B[0m\n\u001B[1;32m    824\u001B[0m \u001B[38;5;66;03m# Strip away the units for comparison with non-unitized bounds.\u001B[39;00m\n\u001B[1;32m    825\u001B[0m xx, \u001B[38;5;241m=\u001B[39m \u001B[38;5;28mself\u001B[39m\u001B[38;5;241m.\u001B[39m_process_unit_info([(\u001B[38;5;124m\"\u001B[39m\u001B[38;5;124mx\u001B[39m\u001B[38;5;124m\"\u001B[39m, x)], kwargs)\n\u001B[0;32m--> 826\u001B[0m scalex \u001B[38;5;241m=\u001B[39m (\u001B[43mxx\u001B[49m\u001B[43m \u001B[49m\u001B[38;5;241;43m<\u001B[39;49m\u001B[43m \u001B[49m\u001B[43mxmin\u001B[49m) \u001B[38;5;129;01mor\u001B[39;00m (xx \u001B[38;5;241m>\u001B[39m xmax)\n\u001B[1;32m    828\u001B[0m trans \u001B[38;5;241m=\u001B[39m \u001B[38;5;28mself\u001B[39m\u001B[38;5;241m.\u001B[39mget_xaxis_transform(which\u001B[38;5;241m=\u001B[39m\u001B[38;5;124m'\u001B[39m\u001B[38;5;124mgrid\u001B[39m\u001B[38;5;124m'\u001B[39m)\n\u001B[1;32m    829\u001B[0m l \u001B[38;5;241m=\u001B[39m mlines\u001B[38;5;241m.\u001B[39mLine2D([x, x], [ymin, ymax], transform\u001B[38;5;241m=\u001B[39mtrans, \u001B[38;5;241m*\u001B[39m\u001B[38;5;241m*\u001B[39mkwargs)\n",
      "\u001B[0;31mTypeError\u001B[0m: '>' not supported between instances of 'float' and 'builtin_function_or_method'"
     ]
    },
    {
     "data": {
      "image/png": "[encoded data removed]",
      "text/plain": [
       "<Figure size 640x480 with 1 Axes>"
      ]
     },
     "metadata": {},
     "output_type": "display_data"
    }
   ],
   "source": [
    "#e\n",
    "population_density = np.array(data[:,3],dtype='float')/np.array(data[:,2],dtype='float')\n",
    "plt.hist(population_density, bins=60)\n",
    "min_index = np.argmin(population_density)\n",
    "max_index = np.argmax(population_density)\n",
    "plt.axvline(x=min, c='red')\n",
    "plt.axvline(x=max, c='green')\n",
    "plt.text(population_density[min_index]+0.5, 60, f'min: {round(population_density[min_index], 6)}\\n{data[min_index, 0]}', c='red')\n",
    "plt.text(population_density[max_index]-1.5, 60, f'max: {round(population_density[max_index], 6)}\\n{data[max_index, 0]}', c='green')\n",
    "plt.xlabel('Population density in thousands per km^2')\n",
    "plt.ylabel('Number of countries')\n",
    "plt.title('Distribution of population density (1988)')\n",
    "plt.show()"
   ]
  },
  {
   "cell_type": "code",
   "execution_count": 19,
   "metadata": {},
   "outputs": [
    {
     "data": {
      "image/png": "[encoded data removed]",
      "text/plain": [
       "<Figure size 640x480 with 1 Axes>"
      ]
     },
     "metadata": {},
     "output_type": "display_data"
    }
   ],
   "source": [
    "#f\n",
    "plt.hist([[x for i, x in enumerate(population_density) if data[i][1]=='Asien'], [x for i, x in enumerate(population_density) if data[i][1]=='Naher Osten']], 30, histtype='bar', color=['red', 'green'], label=['Asien', 'Naher Osten'])\n",
    "plt.legend()\n",
    "plt.xlabel('Population density in thousands per km^2')\n",
    "plt.ylabel('Number of countries')\n",
    "plt.title('Distribution of population density: Asia vs Near east')\n",
    "plt.show()"
   ]
  },
  {
   "cell_type": "code",
   "execution_count": 20,
   "metadata": {},
   "outputs": [
    {
     "data": {
      "image/png": "[encoded data removed]",
      "text/plain": [
       "<Figure size 640x480 with 1 Axes>"
      ]
     },
     "metadata": {},
     "output_type": "display_data"
    }
   ],
   "source": [
    "#g\n",
    "export_density = np.array(data[:,5],dtype='float')/np.array(data[:,2],dtype='float')\n",
    "plt.hist([[x for i, x in enumerate(export_density) if data[i][1]=='Europa'], [x for i, x in enumerate(export_density) if data[i][1]=='Afrika']], 30, histtype='bar', color=['red', 'green'], label=['Europa', 'Afrika'])\n",
    "plt.legend()\n",
    "plt.xlabel('Export density in thousands per km^2')\n",
    "plt.ylabel('Number of countries')\n",
    "plt.title('Distribution of export density: Europe vs Africa')\n",
    "plt.show()"
   ]
  },
  {
   "cell_type": "markdown",
   "metadata": {},
   "source": [
    "## Exercise 5"
   ]
  },
  {
   "cell_type": "code",
   "execution_count": 21,
   "metadata": {},
   "outputs": [
    {
     "name": "stdout",
     "output_type": "stream",
     "text": [
      "xvat vf zna rlrq bar gur oyvaq gur bs xvatqbz gur va\n",
      "wuzs ue ymz qkqp azq ftq nxuzp ftq ar wuzspay ftq uz\n",
      "vtyr td xly pjpo zyp esp mwtyo esp zq vtyrozx esp ty\n",
      "usxq sc wkx oion yxo dro lvsxn dro yp usxqnyw dro sx\n",
      "trwp rb vjw nhnm xwn cqn kurwm cqn xo trwpmxv cqn rw\n",
      "sqvo qa uiv mgml wvm bpm jtqvl bpm wn sqvolwu bpm qv\n",
      "rpun pz thu lflk vul aol ispuk aol vm rpunkvt aol pu\n",
      "qotm oy sgt kekj utk znk hrotj znk ul qotmjus znk ot\n",
      "pnsl nx rfs jdji tsj ymj gqnsi ymj tk pnslitr ymj ns\n",
      "omrk mw qer icih sri xli fpmrh xli sj omrkhsq xli mr\n",
      "nlqj lv pdq hbhg rqh wkh eolqg wkh ri nlqjgrp wkh lq\n",
      "mkpi ku ocp gagf qpg vjg dnkpf vjg qh mkpifqo vjg kp\n",
      "ljoh jt nbo fzfe pof uif cmjoe uif pg ljohepn uif jo\n",
      "king is man eyed one the blind the of kingdom the in\n",
      "jhmf hr lzm dxdc nmd sgd akhmc sgd ne jhmfcnl sgd hm\n",
      "igle gq kyl cwcb mlc rfc zjglb rfc md iglebmk rfc gl\n",
      "hfkd fp jxk bvba lkb qeb yifka qeb lc hfkdalj qeb fk\n",
      "gejc eo iwj auaz kja pda xhejz pda kb gejczki pda ej\n",
      "fdib dn hvi ztzy jiz ocz wgdiy ocz ja fdibyjh ocz di\n",
      "echa cm guh ysyx ihy nby vfchx nby iz echaxig nby ch\n",
      "dbgz bl ftg xrxw hgx max uebgw max hy dbgzwhf max bg\n",
      "cafy ak esf wqwv gfw lzw tdafv lzw gx cafyvge lzw af\n",
      "bzex zj dre vpvu fev kyv sczeu kyv fw bzexufd kyv ze\n",
      "aydw yi cqd uout edu jxu rbydt jxu ev aydwtec jxu yd\n",
      "zxcv xh bpc tnts dct iwt qaxcs iwt du zxcvsdb iwt xc\n",
      "ywbu wg aob smsr cbs hvs pzwbr hvs ct ywburca hvs wb\n"
     ]
    }
   ],
   "source": [
    "#a\n",
    "def decode(m, n):\n",
    "    return ''.join([chr((ord(char)-97-n)%26 +97) if 96<ord(char)<123 else char for char in [m[-i].lower() for i in range(1,len(m)+1)]])\n",
    "\n",
    "#b\n",
    "for n in range(26):\n",
    "    print(decode('av rug zbqtavx sb rug qavyo rug rab qrlr anz fv tavx', n))\n",
    "\n",
    "# n=13 >>> king is man eyed one the blind the of kingdom the in\n",
    "\n",
    "#c already done"
   ]
  },
  {
   "cell_type": "markdown",
   "metadata": {},
   "source": [
    "## Exercise 6"
   ]
  },
  {
   "cell_type": "code",
   "execution_count": 22,
   "metadata": {},
   "outputs": [
    {
     "name": "stdout",
     "output_type": "stream",
     "text": [
      "[1, 2, 3, 3, 5, 6, 7, 7, 12]\n",
      "[0, 0, 0, 0, 0, 0, 1, 1, 1, 1, 1, 1]\n",
      "[-99999, 1, 3.141592653589793, 5.3, 99999]\n"
     ]
    }
   ],
   "source": [
    "# Using the middle-most element as pivot:\n",
    "# pivot = L[len(L)//2]\n",
    "\n",
    "def quicksort(L):\n",
    "    return ([] if L==[] else quicksort([x for x in L if x < L[len(L)//2]]) + [x for x in L if x == L[len(L)//2]] + quicksort([x for x in L if x > L[len(L)//2]]))\n",
    "\n",
    "print(quicksort([3, 6, 12, 5, 3, 7, 1, 7, 2]))\n",
    "print(quicksort([1, 0, 0, 1, 0, 1, 1, 0, 1, 0, 0, 1]))\n",
    "print(quicksort([1, 5.3, np.pi, 99999, -99999]))"
   ]
  },
  {
   "cell_type": "code",
   "execution_count": null,
   "metadata": {},
   "outputs": [],
   "source": []
  }
 ],
 "metadata": {
  "kernelspec": {
   "display_name": "Python 3 (ipykernel)",
   "language": "python",
   "name": "python3"
  },
  "language_info": {
   "codemirror_mode": {
    "name": "ipython",
    "version": 3
   },
   "file_extension": ".py",
   "mimetype": "text/x-python",
   "name": "python",
   "nbconvert_exporter": "python",
   "pygments_lexer": "ipython3",
   "version": "3.10.8"
  }
 },
 "nbformat": 4,
 "nbformat_minor": 1
}
